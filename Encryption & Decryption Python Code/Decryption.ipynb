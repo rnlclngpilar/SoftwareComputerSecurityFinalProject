{
 "cells": [
  {
   "cell_type": "code",
   "execution_count": 30,
   "metadata": {},
   "outputs": [],
   "source": [
    "from cryptography.fernet import Fernet\n",
    "\n",
    "#Creating variables to store the encrypted string from encrypted.txt and the key from key.txt\n",
    "encrypt = ''\n",
    "key = ''\n",
    "\n",
    "#Opening key.txt to simulate obtaining the key from a secure third party. When using read(), \n",
    "#it will convert the byte format of the key into string. If we try to use the key as a string, \n",
    "#Fernet will throw an error. Therefore, when using the key to decrypt the message, we must use\n",
    "#\"encode('utf-8')\" in order to change the string back into byte form.\n",
    "with open('key.txt') as f:\n",
    "    key = f.read()\n",
    "\n",
    "#Preparing Fernet to decrypt a message using the above key. As mentioned above, \n",
    "#we encode the string back into byte form\n",
    "fernet = Fernet(key.encode('utf-8'))\n",
    "\n",
    "#Opening encrypted.txt and reading the encrypted text. As with the key, if we attempt to \n",
    "#decrypt the message as a string, we will get an error. Therefore, the encrypted message must also \n",
    "#be encoded back into byte form\n",
    "with open('encrypted.txt') as f:\n",
    "    encrypt = f.read()\n",
    "\n",
    "#Using Fernet and our key to decrypt the data stored in encrypted.txt. As mentioned above, the\n",
    "#encrypted text is encoded back into byte form\n",
    "decrypt = fernet.decrypt(encrypt.encode('utf-8')).decode()\n",
    "\n",
    "#Finally, the decrypted text is stored in decyrpt.txt\n",
    "with open('decrypted.txt', 'w') as f:\n",
    "    f.write(decrypt)"
   ]
  },
  {
   "cell_type": "code",
   "execution_count": null,
   "metadata": {},
   "outputs": [],
   "source": []
  }
 ],
 "metadata": {
  "kernelspec": {
   "display_name": "Python 3",
   "language": "python",
   "name": "python3"
  },
  "language_info": {
   "codemirror_mode": {
    "name": "ipython",
    "version": 3
   },
   "file_extension": ".py",
   "mimetype": "text/x-python",
   "name": "python",
   "nbconvert_exporter": "python",
   "pygments_lexer": "ipython3",
   "version": "3.8.5"
  }
 },
 "nbformat": 4,
 "nbformat_minor": 4
}
