{
 "cells": [
  {
   "cell_type": "code",
   "execution_count": 36,
   "metadata": {},
   "outputs": [
    {
     "name": "stdout",
     "output_type": "stream",
     "text": [
      "Enter a string to be encrpyted: This is a test\n"
     ]
    }
   ],
   "source": [
    "from cryptography.fernet import Fernet\n",
    "\n",
    "#The inputted data to be encrypted\n",
    "text = input(\"Enter a string to be encrpyted: \")\n",
    "\n",
    "#Generating a random key\n",
    "key = Fernet.generate_key()\n",
    "\n",
    "#Writing the random key into a text file to simulate sending the key through a secure third party\n",
    "with open('key.txt', 'wb') as f:\n",
    "    f.write(key)\n",
    "\n",
    "#Preparing Fernet to encrypt a message using the above key\n",
    "fernet = Fernet(key)\n",
    "\n",
    "#Using Fernet and our key to encrypt the inputted data\n",
    "encrypt = fernet.encrypt(text.encode())\n",
    "\n",
    "#Opening the text file, specifically in \"write in bytes\" mode. Unless it's in this mode, \n",
    "#it will throw an error when trying to write the encrypted text\n",
    "with open('encrypted.txt', 'wb') as f:\n",
    "    f.write(encrypt)"
   ]
  },
  {
   "cell_type": "code",
   "execution_count": null,
   "metadata": {},
   "outputs": [],
   "source": []
  },
  {
   "cell_type": "code",
   "execution_count": null,
   "metadata": {},
   "outputs": [],
   "source": []
  }
 ],
 "metadata": {
  "kernelspec": {
   "display_name": "Python 3",
   "language": "python",
   "name": "python3"
  },
  "language_info": {
   "codemirror_mode": {
    "name": "ipython",
    "version": 3
   },
   "file_extension": ".py",
   "mimetype": "text/x-python",
   "name": "python",
   "nbconvert_exporter": "python",
   "pygments_lexer": "ipython3",
   "version": "3.8.5"
  }
 },
 "nbformat": 4,
 "nbformat_minor": 4
}
